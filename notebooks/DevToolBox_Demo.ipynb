{
 "cells": [
  {
   "cell_type": "code",
   "execution_count": null,
   "id": "1e5ae637",
   "metadata": {
    "vscode": {
     "languageId": "plaintext"
    }
   },
   "outputs": [],
   "source": [
    "# Clone your GitHub repo into Colab (only run once per session)\n",
    "!git clone https://github.com/aiwithjusl/ai-dev-toolbox.git\n",
    "%cd ai-dev-toolbox\n",
    "\n",
    "!pip install -r requirements.txt\n",
    "\n",
    "from devtoolbox.ai.ai_text_toolkit import AITextToolkit\n",
    "\n",
    "toolkit = AITextToolkit()\n",
    "\n",
    "text = \"OpenAI and Microsoft are revolutionizing artificial intelligence in 2025.\"\n",
    "\n",
    "# Tokenize\n",
    "tokens = toolkit.tokenize(text)\n",
    "print(\"Tokens:\", tokens)\n",
    "\n",
    "# Remove stopwords\n",
    "clean_tokens = toolkit.remove_stopwords(tokens)\n",
    "print(\"No Stopwords:\", clean_tokens)\n",
    "\n",
    "# Lemmatize\n",
    "lemmas = toolkit.lemmatize(clean_tokens)\n",
    "print(\"Lemmatized:\", lemmas)\n",
    "\n",
    "# Sentiment\n",
    "sentiment = toolkit.analyze_sentiment(text)\n",
    "print(\"Sentiment:\", sentiment)\n",
    "\n",
    "# Language\n",
    "language = toolkit.detect_language(text)\n",
    "print(\"Detected Language:\", language)\n"
   ]
  }
 ],
 "metadata": {
  "language_info": {
   "name": "python"
  }
 },
 "nbformat": 4,
 "nbformat_minor": 5
}
