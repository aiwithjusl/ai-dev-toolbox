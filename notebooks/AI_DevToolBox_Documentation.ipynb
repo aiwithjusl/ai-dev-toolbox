{
 "cells": [
  {
   "cell_type": "code",
   "execution_count": null,
   "id": "3729548b",
   "metadata": {
    "vscode": {
     "languageId": "plaintext"
    }
   },
   "outputs": [],
   "source": [
    "🧰 AI DevToolBox – Documentation Notebook\n",
    "\n",
    "📌 Overview\n",
    "\n",
    "A modular Python toolkit for rapid prototyping and development of AI-powered tools. \n",
    "\n",
    "Includes:\n",
    "\n",
    "- NLP preprocessing tools\n",
    "- Dataset cleaning\n",
    "- Vector DB integration\n",
    "- Task scheduling\n",
    "- AI error logging/debugging\n",
    "\n",
    "📁 Module Breakdown\n",
    "\n",
    "1. ai_text_toolkit.py\n",
    "\n",
    "- Tokenization, Lemmatization, Language Detection\n",
    "- Usage Example:\n",
    "\n",
    "from devtoolbox.ai.nlp_tools import AITextToolkit\n",
    "toolkit = AITextToolkit()\n",
    "tokens = toolkit.tokenize(\"Sample text.\")\n",
    "\n",
    "2. debug.py\n",
    "\n",
    "- Captures tracebacks, metadata, and errors\n",
    "- Usage:\n",
    "\n",
    "from devtoolbox.core.debug import AIDebugger\n",
    "debugger = AIDebugger()\n",
    "\n",
    "3. dataset_cleaner.py\n",
    "\n",
    "- Cleans column names, drops/fills missing, removes duplicates\n",
    "- Usage:\n",
    "\n",
    "from devtoolbox.data.dataset_cleaner import DatasetCleaner\n",
    "cleaner = DatasetCleaner(df)\n",
    "cleaned_df = cleaner.clean_column_names().drop_missing().get_cleaned()\n",
    "\n",
    "4. vector_db_connector.py\n",
    "\n",
    "- Add/search high-dimensional vectors with FAISS\n",
    "- Usage:\n",
    "\n",
    "from devtoolbox.vector_db_connector import VectorDBConnector\n",
    "db = VectorDBConnector(dim=128)\n",
    "db.add_vectors(vectors, meta)\n",
    "\n",
    "5. task_runner.py\n",
    "\n",
    "- Register, schedule, and run periodic tasks\n",
    "- Usage:\n",
    "\n",
    "from devtoolbox.utils.task_runner import TaskRunner\n",
    "runner = TaskRunner()"
   ]
  }
 ],
 "metadata": {
  "language_info": {
   "name": "python"
  }
 },
 "nbformat": 4,
 "nbformat_minor": 5
}
