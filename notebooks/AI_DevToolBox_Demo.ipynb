{
 "cells": [
  {
   "cell_type": "markdown",
   "id": "2e7e83b1",
   "metadata": {},
   "source": [
    "# 🧠 AI DevToolBox Demo\n",
    "\n",
    "A hands-on walkthrough of each module in the AI DevToolBox."
   ]
  },
  {
   "cell_type": "markdown",
   "id": "50313f90",
   "metadata": {},
   "source": [
    "## 1. Setup"
   ]
  },
  {
   "cell_type": "code",
   "execution_count": null,
   "id": "5fe3ecad",
   "metadata": {},
   "outputs": [],
   "source": [
    "# If using Google Colab:\n",
    "# !git clone https://github.com/aiwithjusl/ai-dev-toolbox.git\n",
    "# %cd ai-dev-toolbox\n",
    "# !pip install -r requirements.txt\n",
    "import sys\n",
    "sys.path.append('./')"
   ]
  },
  {
   "cell_type": "markdown",
   "id": "cd62f381",
   "metadata": {},
   "source": [
    "## 2. 🧠 AI Text Toolkit (NLP)"
   ]
  },
  {
   "cell_type": "code",
   "execution_count": null,
   "id": "5278aef8",
   "metadata": {},
   "outputs": [],
   "source": [
    "from devtoolbox.ai.ai_text_toolkit import AITextToolkit\n",
    "\n",
    "text = \"The quick brown foxes are jumping swiftly over lazy dogs!\"\n",
    "toolkit = AITextToolkit()\n",
    "\n",
    "tokens = toolkit.tokenize(text)\n",
    "cleaned = toolkit.remove_stopwords(tokens)\n",
    "lemmas = toolkit.lemmatize(cleaned)\n",
    "lang = toolkit.detect_language(text)\n",
    "\n",
    "print(\"Original:\", text)\n",
    "print(\"Tokens:\", tokens)\n",
    "print(\"Cleaned:\", cleaned)\n",
    "print(\"Lemmas:\", lemmas)\n",
    "print(\"Language:\", lang)"
   ]
  },
  {
   "cell_type": "markdown",
   "id": "acf53374",
   "metadata": {},
   "source": [
    "## 3. 🐞 AI Debugger"
   ]
  },
  {
   "cell_type": "code",
   "execution_count": null,
   "id": "3e897d7b",
   "metadata": {},
   "outputs": [],
   "source": [
    "from devtoolbox.core.ai_debugger import AIDebugger\n",
    "\n",
    "def faulty_func():\n",
    "    return 10 / 0  # Division by zero\n",
    "\n",
    "debugger = AIDebugger()\n",
    "debugger.run_with_debugging(faulty_func)"
   ]
  },
  {
   "cell_type": "markdown",
   "id": "dcdf8fbb",
   "metadata": {},
   "source": [
    "## 4. 🧹 Dataset Cleaner"
   ]
  },
  {
   "cell_type": "code",
   "execution_count": null,
   "id": "a9cc3f11",
   "metadata": {},
   "outputs": [],
   "source": [
    "import pandas as pd\n",
    "from devtoolbox.data.dataset_cleaner import DatasetCleaner\n",
    "\n",
    "df = pd.DataFrame({\n",
    "    'A': ['  Alpha  ', 'Beta', None, 'Gamma', 'Beta'],\n",
    "    'B': ['one', 'two', 'three', 'three', None]\n",
    "})\n",
    "\n",
    "print(\"Original Data:\\n\", df)\n",
    "\n",
    "cleaner = DatasetCleaner()\n",
    "cleaned_df = cleaner.clean(df)\n",
    "\n",
    "print(\"Cleaned Data:\\n\", cleaned_df)"
   ]
  },
  {
   "cell_type": "markdown",
   "id": "547e9cbd",
   "metadata": {},
   "source": [
    "## 5. 🧭 Vector DB Connector"
   ]
  },
  {
   "cell_type": "code",
   "execution_count": null,
   "id": "130ee46b",
   "metadata": {},
   "outputs": [],
   "source": [
    "from devtoolbox.vector_db_connector import VectorDBConnector\n",
    "import numpy as np\n",
    "\n",
    "docs = [\"hello world\", \"machine learning\", \"AI toolkit\", \"vector search\"]\n",
    "embeddings = np.random.rand(len(docs), 128).astype(\"float32\")\n",
    "\n",
    "db = VectorDBConnector()\n",
    "db.build_index(embeddings)\n",
    "results = db.query(np.random.rand(1, 128).astype(\"float32\"))\n",
    "\n",
    "print(\"Top Match Index:\", results[0])\n",
    "print(\"Top Match Doc:\", docs[results[0]])"
   ]
  },
  {
   "cell_type": "markdown",
   "id": "599213a5",
   "metadata": {},
   "source": [
    "## 6. ⏱️ Task Runner"
   ]
  },
  {
   "cell_type": "code",
   "execution_count": null,
   "id": "29610dcd",
   "metadata": {},
   "outputs": [],
   "source": [
    "from devtoolbox.tasking.task_runner import TaskRunner\n",
    "\n",
    "runner = TaskRunner()\n",
    "\n",
    "@runner.register_task\n",
    "def greet():\n",
    "    print(\"👋 Hello from a scheduled task!\")\n",
    "\n",
    "runner.run_all()"
   ]
  },
  {
   "cell_type": "markdown",
   "id": "e1769209",
   "metadata": {},
   "source": [
    "## ✅ Summary\n",
    "\n",
    "This demo showed how AI DevToolBox modules can clean data, run NLP, debug code, search vectors, and automate tasks — all in a streamlined Pythonic way."
   ]
  }
 ],
 "metadata": {
  "kernelspec": {
   "display_name": "Python 3",
   "language": "python",
   "name": "python3"
  }
 },
 "nbformat": 4,
 "nbformat_minor": 5
}
