{
 "cells": [
  {
   "cell_type": "code",
   "execution_count": null,
   "id": "641086a3",
   "metadata": {
    "vscode": {
     "languageId": "plaintext"
    }
   },
   "outputs": [],
   "source": [
    "# ✅ Setup cell — install if needed\n",
    "!pip install -q -r requirements.txt\n",
    "\n",
    "# Optional: If Colab has path issues\n",
    "import sys\n",
    "sys.path.append(\"/content/ai-dev-toolbox\")  # Adjust path if needed\n",
    "\n",
    "# ✅ Import the debugger\n",
    "from devtoolbox.ai import AIDebugger\n",
    "\n",
    "debugger = AIDebugger(verbose=True)\n",
    "debugger.attach_global_hook()\n",
    "\n",
    "# ✅ Example: Trace some info\n",
    "debugger.trace(\"loading_data\", {\"rows\": 1024, \"columns\": 12})\n",
    "\n",
    "# ✅ Example: View function context\n",
    "def sample_func(name, age=30):\n",
    "    \"\"\"Greets a person and tells their age.\"\"\"\n",
    "    return f\"Hello {name}, you are {age}.\"\n",
    "\n",
    "debugger.get_function_context(sample_func)\n",
    "\n",
    "# ✅ Trigger an error to test logging\n",
    "my_list = [1, 2, 3]\n",
    "try:\n",
    "    print(my_list[5])\n",
    "except Exception as e:\n",
    "    exc_type, exc_value, tb = sys.exc_info()\n",
    "    debugger.log_error(exc_type, exc_value, tb)\n",
    "    print(debugger.suggest_fix(str(e)))\n",
    "\n",
    "# ✅ Preview log\n",
    "debugger.preview()\n"
   ]
  }
 ],
 "metadata": {
  "language_info": {
   "name": "python"
  }
 },
 "nbformat": 4,
 "nbformat_minor": 5
}
